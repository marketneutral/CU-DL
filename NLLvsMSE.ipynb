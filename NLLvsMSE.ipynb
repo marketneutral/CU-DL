{
  "nbformat": 4,
  "nbformat_minor": 0,
  "metadata": {
    "colab": {
      "name": "NLLvsMSE.ipynb",
      "provenance": [],
      "authorship_tag": "ABX9TyMQFTANz18vlXS3Gt+rmPg/",
      "include_colab_link": true
    },
    "kernelspec": {
      "name": "python3",
      "display_name": "Python 3"
    },
    "language_info": {
      "name": "python"
    },
    "accelerator": "GPU"
  },
  "cells": [
    {
      "cell_type": "markdown",
      "metadata": {
        "id": "view-in-github",
        "colab_type": "text"
      },
      "source": [
        "<a href=\"https://colab.research.google.com/github/marketneutral/CU-DL/blob/main/NLLvsMSE.ipynb\" target=\"_parent\"><img src=\"https://colab.research.google.com/assets/colab-badge.svg\" alt=\"Open In Colab\"/></a>"
      ]
    },
    {
      "cell_type": "code",
      "metadata": {
        "id": "rMFmObLKsEFO"
      },
      "source": [
        "import numpy as np\n",
        "from tensorflow import keras\n",
        "from tensorflow.keras import layers"
      ],
      "execution_count": 1,
      "outputs": []
    },
    {
      "cell_type": "code",
      "metadata": {
        "colab": {
          "base_uri": "https://localhost:8080/",
          "height": 0
        },
        "id": "wg53jTHNsG6-",
        "outputId": "4f0cf569-8bc5-4aa9-80ff-fd6bf3e493df"
      },
      "source": [
        "# Model / data parameters\n",
        "num_classes = 10\n",
        "input_shape = (28, 28, 1)\n",
        "\n",
        "# the data, split between train and test sets\n",
        "(x_train, y_train), (x_test, y_test) = keras.datasets.mnist.load_data()\n",
        "\n",
        "# Scale images to the [0, 1] range\n",
        "x_train = x_train.astype(\"float32\") / 255\n",
        "x_test = x_test.astype(\"float32\") / 255\n",
        "# Make sure images have shape (28, 28, 1)\n",
        "x_train = np.expand_dims(x_train, -1)\n",
        "x_test = np.expand_dims(x_test, -1)\n",
        "print(\"x_train shape:\", x_train.shape)\n",
        "print(x_train.shape[0], \"train samples\")\n",
        "print(x_test.shape[0], \"test samples\")\n",
        "\n",
        "\n",
        "# convert class vectors to binary class matrices\n",
        "y_train = keras.utils.to_categorical(y_train, num_classes)\n",
        "y_test = keras.utils.to_categorical(y_test, num_classes)"
      ],
      "execution_count": 2,
      "outputs": [
        {
          "output_type": "stream",
          "text": [
            "Downloading data from https://storage.googleapis.com/tensorflow/tf-keras-datasets/mnist.npz\n",
            "11493376/11490434 [==============================] - 0s 0us/step\n",
            "x_train shape: (60000, 28, 28, 1)\n",
            "60000 train samples\n",
            "10000 test samples\n"
          ],
          "name": "stdout"
        }
      ]
    },
    {
      "cell_type": "code",
      "metadata": {
        "colab": {
          "base_uri": "https://localhost:8080/",
          "height": 0
        },
        "id": "RhPqDEWmsIl9",
        "outputId": "54c94f0a-b540-4d2d-e045-ad695108839f"
      },
      "source": [
        "model = keras.Sequential(\n",
        "    [\n",
        "        keras.Input(shape=input_shape),\n",
        "        layers.Conv2D(32, kernel_size=(3, 3), activation=\"relu\"),\n",
        "        layers.MaxPooling2D(pool_size=(2, 2)),\n",
        "        layers.Conv2D(64, kernel_size=(3, 3), activation=\"relu\"),\n",
        "        layers.MaxPooling2D(pool_size=(2, 2)),\n",
        "        layers.Flatten(),\n",
        "        layers.Dropout(0.5),\n",
        "        layers.Dense(num_classes, activation=\"softmax\"),\n",
        "    ]\n",
        ")\n",
        "\n",
        "model.summary()"
      ],
      "execution_count": 3,
      "outputs": [
        {
          "output_type": "stream",
          "text": [
            "WARNING:tensorflow:Please add `keras.layers.InputLayer` instead of `keras.Input` to Sequential model. `keras.Input` is intended to be used by Functional model.\n",
            "Model: \"sequential\"\n",
            "_________________________________________________________________\n",
            "Layer (type)                 Output Shape              Param #   \n",
            "=================================================================\n",
            "conv2d (Conv2D)              (None, 26, 26, 32)        320       \n",
            "_________________________________________________________________\n",
            "max_pooling2d (MaxPooling2D) (None, 13, 13, 32)        0         \n",
            "_________________________________________________________________\n",
            "conv2d_1 (Conv2D)            (None, 11, 11, 64)        18496     \n",
            "_________________________________________________________________\n",
            "max_pooling2d_1 (MaxPooling2 (None, 5, 5, 64)          0         \n",
            "_________________________________________________________________\n",
            "flatten (Flatten)            (None, 1600)              0         \n",
            "_________________________________________________________________\n",
            "dropout (Dropout)            (None, 1600)              0         \n",
            "_________________________________________________________________\n",
            "dense (Dense)                (None, 10)                16010     \n",
            "=================================================================\n",
            "Total params: 34,826\n",
            "Trainable params: 34,826\n",
            "Non-trainable params: 0\n",
            "_________________________________________________________________\n"
          ],
          "name": "stdout"
        }
      ]
    },
    {
      "cell_type": "code",
      "metadata": {
        "colab": {
          "base_uri": "https://localhost:8080/",
          "height": 0
        },
        "id": "mjbJrp16sK_K",
        "outputId": "0612689c-1cff-4d71-f54f-014f68afe18d"
      },
      "source": [
        "batch_size = 128\n",
        "epochs = 15\n",
        "\n",
        "model.compile(loss=\"categorical_crossentropy\", optimizer=\"adam\", metrics=[\"accuracy\"])\n",
        "\n",
        "model.fit(x_train, y_train, batch_size=batch_size, epochs=epochs, validation_split=0.1)"
      ],
      "execution_count": 4,
      "outputs": [
        {
          "output_type": "stream",
          "text": [
            "Epoch 1/15\n",
            "422/422 [==============================] - 34s 7ms/step - loss: 0.3665 - accuracy: 0.8896 - val_loss: 0.0813 - val_accuracy: 0.9778\n",
            "Epoch 2/15\n",
            "422/422 [==============================] - 2s 6ms/step - loss: 0.1105 - accuracy: 0.9665 - val_loss: 0.0594 - val_accuracy: 0.9838\n",
            "Epoch 3/15\n",
            "422/422 [==============================] - 2s 6ms/step - loss: 0.0844 - accuracy: 0.9747 - val_loss: 0.0470 - val_accuracy: 0.9878\n",
            "Epoch 4/15\n",
            "422/422 [==============================] - 3s 6ms/step - loss: 0.0719 - accuracy: 0.9776 - val_loss: 0.0406 - val_accuracy: 0.9885\n",
            "Epoch 5/15\n",
            "422/422 [==============================] - 2s 6ms/step - loss: 0.0622 - accuracy: 0.9811 - val_loss: 0.0423 - val_accuracy: 0.9880\n",
            "Epoch 6/15\n",
            "422/422 [==============================] - 2s 6ms/step - loss: 0.0581 - accuracy: 0.9811 - val_loss: 0.0355 - val_accuracy: 0.9902\n",
            "Epoch 7/15\n",
            "422/422 [==============================] - 2s 6ms/step - loss: 0.0520 - accuracy: 0.9837 - val_loss: 0.0333 - val_accuracy: 0.9913\n",
            "Epoch 8/15\n",
            "422/422 [==============================] - 2s 6ms/step - loss: 0.0500 - accuracy: 0.9839 - val_loss: 0.0334 - val_accuracy: 0.9907\n",
            "Epoch 9/15\n",
            "422/422 [==============================] - 2s 6ms/step - loss: 0.0434 - accuracy: 0.9859 - val_loss: 0.0319 - val_accuracy: 0.9920\n",
            "Epoch 10/15\n",
            "422/422 [==============================] - 3s 6ms/step - loss: 0.0425 - accuracy: 0.9862 - val_loss: 0.0312 - val_accuracy: 0.9913\n",
            "Epoch 11/15\n",
            "422/422 [==============================] - 3s 6ms/step - loss: 0.0401 - accuracy: 0.9871 - val_loss: 0.0310 - val_accuracy: 0.9912\n",
            "Epoch 12/15\n",
            "422/422 [==============================] - 2s 6ms/step - loss: 0.0368 - accuracy: 0.9881 - val_loss: 0.0305 - val_accuracy: 0.9905\n",
            "Epoch 13/15\n",
            "422/422 [==============================] - 3s 6ms/step - loss: 0.0367 - accuracy: 0.9879 - val_loss: 0.0282 - val_accuracy: 0.9927\n",
            "Epoch 14/15\n",
            "422/422 [==============================] - 2s 6ms/step - loss: 0.0344 - accuracy: 0.9886 - val_loss: 0.0313 - val_accuracy: 0.9922\n",
            "Epoch 15/15\n",
            "422/422 [==============================] - 3s 6ms/step - loss: 0.0324 - accuracy: 0.9892 - val_loss: 0.0262 - val_accuracy: 0.9928\n"
          ],
          "name": "stdout"
        },
        {
          "output_type": "execute_result",
          "data": {
            "text/plain": [
              "<tensorflow.python.keras.callbacks.History at 0x7f7b79625c10>"
            ]
          },
          "metadata": {
            "tags": []
          },
          "execution_count": 4
        }
      ]
    },
    {
      "cell_type": "code",
      "metadata": {
        "colab": {
          "base_uri": "https://localhost:8080/",
          "height": 0
        },
        "id": "54eML0QfsORl",
        "outputId": "621a7a32-b352-418c-9d61-05e54eab8dc6"
      },
      "source": [
        "epochs = 4\n",
        "model.compile(loss=\"mse\", optimizer=\"adam\", metrics=[\"accuracy\"])\n",
        "\n",
        "model.fit(x_train, y_train, batch_size=batch_size, epochs=epochs, validation_split=0.1)"
      ],
      "execution_count": 7,
      "outputs": [
        {
          "output_type": "stream",
          "text": [
            "Epoch 1/4\n",
            "422/422 [==============================] - 3s 6ms/step - loss: 0.0011 - accuracy: 0.9929 - val_loss: 0.0011 - val_accuracy: 0.9930\n",
            "Epoch 2/4\n",
            "422/422 [==============================] - 2s 6ms/step - loss: 0.0011 - accuracy: 0.9924 - val_loss: 0.0011 - val_accuracy: 0.9927\n",
            "Epoch 3/4\n",
            "422/422 [==============================] - 2s 6ms/step - loss: 0.0012 - accuracy: 0.9919 - val_loss: 0.0011 - val_accuracy: 0.9930\n",
            "Epoch 4/4\n",
            "422/422 [==============================] - 2s 6ms/step - loss: 0.0012 - accuracy: 0.9926 - val_loss: 0.0011 - val_accuracy: 0.9928\n"
          ],
          "name": "stdout"
        },
        {
          "output_type": "execute_result",
          "data": {
            "text/plain": [
              "<tensorflow.python.keras.callbacks.History at 0x7f7b1e22e050>"
            ]
          },
          "metadata": {
            "tags": []
          },
          "execution_count": 7
        }
      ]
    },
    {
      "cell_type": "code",
      "metadata": {
        "id": "jarN-cOQsn_I"
      },
      "source": [
        ""
      ],
      "execution_count": null,
      "outputs": []
    }
  ]
}